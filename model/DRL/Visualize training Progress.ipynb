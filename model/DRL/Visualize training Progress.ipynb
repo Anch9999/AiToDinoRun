{
 "cells": [
  {
   "cell_type": "markdown",
   "metadata": {},
   "source": [
    "## Visualize the progress of training\n",
    "All paths are relative."
   ]
  },
  {
   "cell_type": "code",
   "execution_count": null,
   "metadata": {
    "collapsed": true
   },
   "outputs": [],
   "source": [
    "import time\n",
    "%matplotlib inline \n",
    "from matplotlib import pyplot as plt\n",
    "plt.rcParams['figure.figsize'] = (15, 9)\n",
    "import seaborn as sns\n",
    "import pandas as pd\n",
    "import numpy as np"
   ]
  },
  {
   "cell_type": "code",
   "execution_count": null,
   "metadata": {},
   "outputs": [],
   "source": [
    "import pandas as pd\n",
    "start = 0\n",
    "interval = 10\n",
    "scores_df = pd.read_csv(\"./objects/scores_df.csv\")\n",
    "mean_scores = pd.DataFrame(columns =['score'])\n",
    "actions_df = pd.read_csv(\"./objects/actions_df.csv\")\n",
    "max_scores = pd.DataFrame(columns =['max_score'])\n",
    "q_max_scores = pd.DataFrame(columns =['q_max'])\n",
    "while interval <= len(scores_df):\n",
    "    mean_scores.loc[len(mean_scores)] = (scores_df.loc[start:interval].mean()['scores'])\n",
    "    max_scores.loc[len(max_scores)] = (scores_df.loc[start:interval].max()['scores'])\n",
    "    start = interval\n",
    "    interval = interval + 10\n",
    "\n",
    "q_max_df = pd.read_csv(\"./objects/q_values.csv\")\n",
    "\n",
    "start = 0\n",
    "interval = 1000\n",
    "while interval <=len(q_max_df):\n",
    "    q_max_scores.loc[len(q_max_scores)] = (q_max_df.loc[start:interval].mean()['actions'])\n",
    "    start = interval\n",
    "    interval = interval + 1000\n",
    "    \n",
    "mean_scores.plot()\n",
    "max_scores.plot()\n",
    "q_max_scores.plot()"
   ]
  }
 ],
 "metadata": {
  "kernelspec": {
   "display_name": "Python 3",
   "language": "python",
   "name": "python3"
  },
  "language_info": {
   "codemirror_mode": {
    "name": "ipython",
    "version": 3
   },
   "file_extension": ".py",
   "mimetype": "text/x-python",
   "name": "python",
   "nbconvert_exporter": "python",
   "pygments_lexer": "ipython3",
   "version": "3.6.3"
  }
 },
 "nbformat": 4,
 "nbformat_minor": 2
}
